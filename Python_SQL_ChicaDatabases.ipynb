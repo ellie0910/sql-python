{
 "cells": [
  {
   "cell_type": "markdown",
   "metadata": {},
   "source": [
    "<center>\n",
    "    <img src=\"https://cf-courses-data.s3.us.cloud-object-storage.appdomain.cloud/IBMDeveloperSkillsNetwork-DB0201EN-SkillsNetwork/labs/FinalModule_Coursera_V5/images/SN_web_lightmode.png\" width=\"300\" alt=\"cognitiveclass.ai logo\">\n",
    "</center>\n",
    "\n",
    "# Working with a real world data-set using SQL and Python\n",
    "\n"
   ]
  },
  {
   "cell_type": "markdown",
   "metadata": {},
   "source": [
    "## Chicago Public Schools - Progress Report Cards (2011-2012)\n",
    "\n",
    "The city of Chicago released a dataset showing all school level performance data used to create School Report Cards for the 2011-2012 school year. The dataset is available from the Chicago Data Portal: [https://data.cityofchicago.org/Education/Chicago-Public-Schools-Progress-Report-Cards-2011-/9xs2-f89t](https://data.cityofchicago.org/Education/Chicago-Public-Schools-Progress-Report-Cards-2011-/9xs2-f89t?utm_medium=Exinfluencer&utm_source=Exinfluencer&utm_content=000026UJ&utm_term=10006555&utm_id=NA-SkillsNetwork-Channel-SkillsNetworkCoursesIBMDeveloperSkillsNetworkDB0201ENSkillsNetwork20127838-2021-01-01&cm_mmc=Email_Newsletter-_-Developer_Ed%2BTech-_-WW_WW-_-SkillsNetwork-Courses-IBMDeveloperSkillsNetwork-DB0201EN-SkillsNetwork-20127838&cm_mmca1=000026UJ&cm_mmca2=10006555&cm_mmca3=M12345678&cvosrc=email.Newsletter.M12345678&cvo_campaign=000026UJ)\n",
    "\n",
    "This dataset includes a large number of metrics. Start by familiarizing yourself with the types of metrics in the database: [https://data.cityofchicago.org/api/assets/AAD41A13-BE8A-4E67-B1F5-86E711E09D5F?download=true](https://data.cityofchicago.org/api/assets/AAD41A13-BE8A-4E67-B1F5-86E711E09D5F?utm_medium=Exinfluencer&utm_source=Exinfluencer&utm_content=000026UJ&utm_term=10006555&utm_id=NA-SkillsNetwork-Channel-SkillsNetworkCoursesIBMDeveloperSkillsNetworkDB0201ENSkillsNetwork20127838-2021-01-01&download=true&cm_mmc=Email_Newsletter-_-Developer_Ed%2BTech-_-WW_WW-_-SkillsNetwork-Courses-IBMDeveloperSkillsNetwork-DB0201EN-SkillsNetwork-20127838&cm_mmca1=000026UJ&cm_mmca2=10006555&cm_mmca3=M12345678&cvosrc=email.Newsletter.M12345678&cvo_campaign=000026UJ)\n",
    "\n"
   ]
  },
  {
   "cell_type": "code",
   "execution_count": 1,
   "metadata": {
    "tags": []
   },
   "outputs": [],
   "source": [
    "import csv, sqlite3\n",
    "\n",
    "con = sqlite3.connect(\"RealWorldData.db\")\n",
    "cur = con.cursor()"
   ]
  },
  {
   "cell_type": "code",
   "execution_count": 2,
   "metadata": {
    "tags": []
   },
   "outputs": [],
   "source": [
    "\n",
    "!pip install -q pandas==1.1.5"
   ]
  },
  {
   "cell_type": "code",
   "execution_count": 3,
   "metadata": {
    "tags": []
   },
   "outputs": [],
   "source": [
    "%load_ext sql"
   ]
  },
  {
   "cell_type": "code",
   "execution_count": 4,
   "metadata": {
    "tags": []
   },
   "outputs": [
    {
     "data": {
      "text/plain": [
       "'Connected: @RealWorldData.db'"
      ]
     },
     "execution_count": 4,
     "metadata": {},
     "output_type": "execute_result"
    }
   ],
   "source": [
    "%sql sqlite:///RealWorldData.db"
   ]
  },
  {
   "cell_type": "code",
   "execution_count": null,
   "metadata": {
    "tags": []
   },
   "outputs": [],
   "source": [
    "import pandas\n",
    "df = pandas.read_csv(\"https://cf-courses-data.s3.us.cloud-object-storage.appdomain.cloud/IBMDeveloperSkillsNetwork-DB0201EN-SkillsNetwork/labs/FinalModule_Coursera_V5/data/ChicagoCensusData.csv\")\n",
    "df.to_sql(\"CENSUS_DATA\", con, if_exists='replace', index=False,method=\"multi\")\n",
    "\n",
    "df = pandas.read_csv(\"https://cf-courses-data.s3.us.cloud-object-storage.appdomain.cloud/IBMDeveloperSkillsNetwork-DB0201EN-SkillsNetwork/labs/FinalModule_Coursera_V5/data/ChicagoCrimeData.csv\")\n",
    "df.to_sql(\"CHICAGO_CRIME_DATA\", con, if_exists='replace', index=False, method=\"multi\")\n",
    "\n",
    "df = pandas.read_csv(\"https://cf-courses-data.s3.us.cloud-object-storage.appdomain.cloud/IBMDeveloperSkillsNetwork-DB0201EN-SkillsNetwork/labs/FinalModule_Coursera_V5/data/ChicagoPublicSchools.csv\")\n",
    "df.to_sql(\"CHICAGO_PUBLIC_SCHOOLS_DATA\", con, if_exists='replace', index=False, method=\"multi\")"
   ]
  },
  {
   "cell_type": "code",
   "execution_count": null,
   "metadata": {
    "tags": []
   },
   "outputs": [],
   "source": [
    "# type in your query to retrieve list of all tables in the database\n",
    "%sql SELECT name FROM sqlite_master WHERE type='table'"
   ]
  },
  {
   "cell_type": "code",
   "execution_count": null,
   "metadata": {
    "tags": []
   },
   "outputs": [],
   "source": [
    "# type in query to retrieve the number of columns in the SCHOOLS table\n",
    "%sql SELECT count(name) FROM PRAGMA_TABLE_INFO('CHICAGO_PUBLIC_SCHOOLS_DATA');\n"
   ]
  },
  {
   "cell_type": "markdown",
   "metadata": {},
   "source": [
    "Now retrieve the the list of columns in SCHOOLS table and their column type (datatype) and length.\n"
   ]
  },
  {
   "cell_type": "code",
   "execution_count": null,
   "metadata": {
    "tags": []
   },
   "outputs": [],
   "source": [
    "%sql SELECT name,type,length(type) FROM PRAGMA_TABLE_INFO('CHICAGO_PUBLIC_SCHOOLS_DATA');"
   ]
  },
  {
   "cell_type": "markdown",
   "metadata": {},
   "source": [
    "## Problems\n",
    "\n",
    "### Problem 1\n",
    "\n",
    "##### How many Elementary Schools are in the dataset?\n"
   ]
  },
  {
   "cell_type": "code",
   "execution_count": null,
   "metadata": {
    "tags": []
   },
   "outputs": [],
   "source": [
    "%sql SELECT * from CHICAGO_PUBLIC_SCHOOLS_DATA limit 3;"
   ]
  },
  {
   "cell_type": "markdown",
   "metadata": {},
   "source": [
    "### Problem 2\n",
    "\n",
    "##### What is the highest Safety Score?\n"
   ]
  },
  {
   "cell_type": "code",
   "execution_count": null,
   "metadata": {
    "tags": []
   },
   "outputs": [],
   "source": [
    "%sql select max(SAFETY_SCORE) from CHICAGO_PUBLIC_SCHOOLS_DATA"
   ]
  },
  {
   "cell_type": "markdown",
   "metadata": {},
   "source": [
    "### Problem 3\n",
    "\n",
    "##### Which schools have highest Safety Score?\n"
   ]
  },
  {
   "cell_type": "code",
   "execution_count": 16,
   "metadata": {},
   "outputs": [
    {
     "name": "stdout",
     "output_type": "stream",
     "text": [
      " * sqlite:///RealWorldData.db\n",
      "Done.\n"
     ]
    },
    {
     "data": {
      "text/html": [
       "<table>\n",
       "    <thead>\n",
       "        <tr>\n",
       "            <th>NAME_OF_SCHOOL</th>\n",
       "        </tr>\n",
       "    </thead>\n",
       "    <tbody>\n",
       "        <tr>\n",
       "            <td>Abraham Lincoln Elementary School</td>\n",
       "        </tr>\n",
       "        <tr>\n",
       "            <td>Alexander Graham Bell Elementary School</td>\n",
       "        </tr>\n",
       "        <tr>\n",
       "            <td>Annie Keller Elementary Gifted Magnet School</td>\n",
       "        </tr>\n",
       "        <tr>\n",
       "            <td>Augustus H Burley Elementary School</td>\n",
       "        </tr>\n",
       "        <tr>\n",
       "            <td>Edgar Allan Poe Elementary Classical School</td>\n",
       "        </tr>\n",
       "        <tr>\n",
       "            <td>Edgebrook Elementary School</td>\n",
       "        </tr>\n",
       "        <tr>\n",
       "            <td>Ellen Mitchell Elementary School</td>\n",
       "        </tr>\n",
       "        <tr>\n",
       "            <td>James E McDade Elementary Classical School</td>\n",
       "        </tr>\n",
       "        <tr>\n",
       "            <td>James G Blaine Elementary School</td>\n",
       "        </tr>\n",
       "        <tr>\n",
       "            <td>LaSalle Elementary Language Academy</td>\n",
       "        </tr>\n",
       "        <tr>\n",
       "            <td>Mary E Courtenay Elementary Language Arts Center</td>\n",
       "        </tr>\n",
       "        <tr>\n",
       "            <td>Northside College Preparatory High School</td>\n",
       "        </tr>\n",
       "        <tr>\n",
       "            <td>Northside Learning Center High School</td>\n",
       "        </tr>\n",
       "        <tr>\n",
       "            <td>Norwood Park Elementary School</td>\n",
       "        </tr>\n",
       "        <tr>\n",
       "            <td>Oriole Park Elementary School</td>\n",
       "        </tr>\n",
       "        <tr>\n",
       "            <td>Sauganash Elementary School</td>\n",
       "        </tr>\n",
       "        <tr>\n",
       "            <td>Stephen Decatur Classical Elementary School</td>\n",
       "        </tr>\n",
       "        <tr>\n",
       "            <td>Talman Elementary School</td>\n",
       "        </tr>\n",
       "        <tr>\n",
       "            <td>Wildwood Elementary School</td>\n",
       "        </tr>\n",
       "    </tbody>\n",
       "</table>"
      ],
      "text/plain": [
       "[('Abraham Lincoln Elementary School',),\n",
       " ('Alexander Graham Bell Elementary School',),\n",
       " ('Annie Keller Elementary Gifted Magnet School',),\n",
       " ('Augustus H Burley Elementary School',),\n",
       " ('Edgar Allan Poe Elementary Classical School',),\n",
       " ('Edgebrook Elementary School',),\n",
       " ('Ellen Mitchell Elementary School',),\n",
       " ('James E McDade Elementary Classical School',),\n",
       " ('James G Blaine Elementary School',),\n",
       " ('LaSalle Elementary Language Academy',),\n",
       " ('Mary E Courtenay Elementary Language Arts Center',),\n",
       " ('Northside College Preparatory High School',),\n",
       " ('Northside Learning Center High School',),\n",
       " ('Norwood Park Elementary School',),\n",
       " ('Oriole Park Elementary School',),\n",
       " ('Sauganash Elementary School',),\n",
       " ('Stephen Decatur Classical Elementary School',),\n",
       " ('Talman Elementary School',),\n",
       " ('Wildwood Elementary School',)]"
      ]
     },
     "execution_count": 16,
     "metadata": {},
     "output_type": "execute_result"
    }
   ],
   "source": [
    "%sql select NAME_OF_SCHOOL from CHICAGO_PUBLIC_SCHOOLS_DATA where safety_score = (select max(safety_score) from CHICAGO_PUBLIC_SCHOOLS_DATA)"
   ]
  },
  {
   "cell_type": "markdown",
   "metadata": {},
   "source": [
    "### Problem 4\n",
    "\n",
    "##### What are the top 10 schools with the highest \"Average Student Attendance\"?\n"
   ]
  },
  {
   "cell_type": "code",
   "execution_count": 18,
   "metadata": {},
   "outputs": [
    {
     "name": "stdout",
     "output_type": "stream",
     "text": [
      " * sqlite:///RealWorldData.db\n",
      "Done.\n"
     ]
    },
    {
     "data": {
      "text/html": [
       "<table>\n",
       "    <thead>\n",
       "        <tr>\n",
       "            <th>NAME_OF_SCHOOL</th>\n",
       "        </tr>\n",
       "    </thead>\n",
       "    <tbody>\n",
       "        <tr>\n",
       "            <td>John Charles Haines Elementary School</td>\n",
       "        </tr>\n",
       "        <tr>\n",
       "            <td>James Ward Elementary School</td>\n",
       "        </tr>\n",
       "        <tr>\n",
       "            <td>Edgar Allan Poe Elementary Classical School</td>\n",
       "        </tr>\n",
       "        <tr>\n",
       "            <td>Orozco Fine Arts &amp; Sciences Elementary School</td>\n",
       "        </tr>\n",
       "        <tr>\n",
       "            <td>Rachel Carson Elementary School</td>\n",
       "        </tr>\n",
       "        <tr>\n",
       "            <td>Annie Keller Elementary Gifted Magnet School</td>\n",
       "        </tr>\n",
       "        <tr>\n",
       "            <td>Andrew Jackson Elementary Language Academy</td>\n",
       "        </tr>\n",
       "        <tr>\n",
       "            <td>Lenart Elementary Regional Gifted Center</td>\n",
       "        </tr>\n",
       "        <tr>\n",
       "            <td>Disney II Magnet School</td>\n",
       "        </tr>\n",
       "        <tr>\n",
       "            <td>John H Vanderpoel Elementary Magnet School</td>\n",
       "        </tr>\n",
       "    </tbody>\n",
       "</table>"
      ],
      "text/plain": [
       "[('John Charles Haines Elementary School',),\n",
       " ('James Ward Elementary School',),\n",
       " ('Edgar Allan Poe Elementary Classical School',),\n",
       " ('Orozco Fine Arts & Sciences Elementary School',),\n",
       " ('Rachel Carson Elementary School',),\n",
       " ('Annie Keller Elementary Gifted Magnet School',),\n",
       " ('Andrew Jackson Elementary Language Academy',),\n",
       " ('Lenart Elementary Regional Gifted Center',),\n",
       " ('Disney II Magnet School',),\n",
       " ('John H Vanderpoel Elementary Magnet School',)]"
      ]
     },
     "execution_count": 18,
     "metadata": {},
     "output_type": "execute_result"
    }
   ],
   "source": [
    "%sql select Name_of_School from CHICAGO_PUBLIC_SCHOOLS_DATA order by AVERAGE_STUDENT_ATTENDANCE DESC limit 10"
   ]
  },
  {
   "cell_type": "markdown",
   "metadata": {},
   "source": [
    "### Problem 5\n",
    "\n",
    "##### Retrieve the list of 5 Schools with the lowest Average Student Attendance sorted in ascending order based on attendance\n"
   ]
  },
  {
   "cell_type": "code",
   "execution_count": 19,
   "metadata": {},
   "outputs": [
    {
     "name": "stdout",
     "output_type": "stream",
     "text": [
      " * sqlite:///RealWorldData.db\n",
      "Done.\n"
     ]
    },
    {
     "data": {
      "text/html": [
       "<table>\n",
       "    <thead>\n",
       "        <tr>\n",
       "            <th>NAME_OF_SCHOOL</th>\n",
       "        </tr>\n",
       "    </thead>\n",
       "    <tbody>\n",
       "        <tr>\n",
       "            <td>Velma F Thomas Early Childhood Center</td>\n",
       "        </tr>\n",
       "        <tr>\n",
       "            <td>Richard T Crane Technical Preparatory High School</td>\n",
       "        </tr>\n",
       "        <tr>\n",
       "            <td>Barbara Vick Early Childhood &amp; Family Center</td>\n",
       "        </tr>\n",
       "        <tr>\n",
       "            <td>Dyett High School</td>\n",
       "        </tr>\n",
       "        <tr>\n",
       "            <td>Wendell Phillips Academy High School</td>\n",
       "        </tr>\n",
       "    </tbody>\n",
       "</table>"
      ],
      "text/plain": [
       "[('Velma F Thomas Early Childhood Center',),\n",
       " ('Richard T Crane Technical Preparatory High School',),\n",
       " ('Barbara Vick Early Childhood & Family Center',),\n",
       " ('Dyett High School',),\n",
       " ('Wendell Phillips Academy High School',)]"
      ]
     },
     "execution_count": 19,
     "metadata": {},
     "output_type": "execute_result"
    }
   ],
   "source": [
    "%sql select Name_of_School from CHICAGO_PUBLIC_SCHOOLS_DATA order by AVERAGE_STUDENT_ATTENDANCE ASC limit 5"
   ]
  },
  {
   "cell_type": "markdown",
   "metadata": {},
   "source": [
    "### Problem 6\n",
    "\n",
    "##### Now remove the '%' sign from the above result set for Average Student Attendance column\n"
   ]
  },
  {
   "cell_type": "code",
   "execution_count": 20,
   "metadata": {},
   "outputs": [
    {
     "name": "stdout",
     "output_type": "stream",
     "text": [
      " * sqlite:///RealWorldData.db\n",
      "Done.\n"
     ]
    },
    {
     "data": {
      "text/html": [
       "<table>\n",
       "    <thead>\n",
       "        <tr>\n",
       "            <th>NAME_OF_SCHOOL</th>\n",
       "            <th>REPLACE(Average_Student_Attendance, &#x27;%&#x27;, &#x27;&#x27;)</th>\n",
       "        </tr>\n",
       "    </thead>\n",
       "    <tbody>\n",
       "        <tr>\n",
       "            <td>Velma F Thomas Early Childhood Center</td>\n",
       "            <td>None</td>\n",
       "        </tr>\n",
       "        <tr>\n",
       "            <td>Richard T Crane Technical Preparatory High School</td>\n",
       "            <td>57.90</td>\n",
       "        </tr>\n",
       "        <tr>\n",
       "            <td>Barbara Vick Early Childhood &amp; Family Center</td>\n",
       "            <td>60.90</td>\n",
       "        </tr>\n",
       "        <tr>\n",
       "            <td>Dyett High School</td>\n",
       "            <td>62.50</td>\n",
       "        </tr>\n",
       "        <tr>\n",
       "            <td>Wendell Phillips Academy High School</td>\n",
       "            <td>63.00</td>\n",
       "        </tr>\n",
       "    </tbody>\n",
       "</table>"
      ],
      "text/plain": [
       "[('Velma F Thomas Early Childhood Center', None),\n",
       " ('Richard T Crane Technical Preparatory High School', '57.90'),\n",
       " ('Barbara Vick Early Childhood & Family Center', '60.90'),\n",
       " ('Dyett High School', '62.50'),\n",
       " ('Wendell Phillips Academy High School', '63.00')]"
      ]
     },
     "execution_count": 20,
     "metadata": {},
     "output_type": "execute_result"
    }
   ],
   "source": [
    "%sql SELECT Name_of_School, REPLACE(Average_Student_Attendance, '%', '') \\\n",
    "     from CHICAGO_PUBLIC_SCHOOLS_DATA \\\n",
    "     order by Average_Student_Attendance \\\n",
    "     LIMIT 5"
   ]
  },
  {
   "cell_type": "markdown",
   "metadata": {},
   "source": [
    "### Problem 7\n",
    "\n",
    "##### Which Schools have Average Student Attendance lower than 70%?\n"
   ]
  },
  {
   "cell_type": "code",
   "execution_count": 25,
   "metadata": {},
   "outputs": [
    {
     "name": "stdout",
     "output_type": "stream",
     "text": [
      " * sqlite:///RealWorldData.db\n",
      "Done.\n"
     ]
    },
    {
     "data": {
      "text/html": [
       "<table>\n",
       "    <thead>\n",
       "        <tr>\n",
       "            <th>NAME_OF_SCHOOL</th>\n",
       "            <th>AVERAGE_STUDENT_ATTENDANCE</th>\n",
       "        </tr>\n",
       "    </thead>\n",
       "    <tbody>\n",
       "        <tr>\n",
       "            <td>Barbara Vick Early Childhood &amp; Family Center</td>\n",
       "            <td>60.90%</td>\n",
       "        </tr>\n",
       "        <tr>\n",
       "            <td>Chicago Vocational Career Academy High School</td>\n",
       "            <td>68.80%</td>\n",
       "        </tr>\n",
       "        <tr>\n",
       "            <td>Dyett High School</td>\n",
       "            <td>62.50%</td>\n",
       "        </tr>\n",
       "        <tr>\n",
       "            <td>Manley Career Academy High School</td>\n",
       "            <td>66.80%</td>\n",
       "        </tr>\n",
       "        <tr>\n",
       "            <td>Orr Academy High School</td>\n",
       "            <td>66.30%</td>\n",
       "        </tr>\n",
       "        <tr>\n",
       "            <td>Richard T Crane Technical Preparatory High School</td>\n",
       "            <td>57.90%</td>\n",
       "        </tr>\n",
       "        <tr>\n",
       "            <td>Roberto Clemente Community Academy High School</td>\n",
       "            <td>69.60%</td>\n",
       "        </tr>\n",
       "        <tr>\n",
       "            <td>Wendell Phillips Academy High School</td>\n",
       "            <td>63.00%</td>\n",
       "        </tr>\n",
       "    </tbody>\n",
       "</table>"
      ],
      "text/plain": [
       "[('Barbara Vick Early Childhood & Family Center', '60.90%'),\n",
       " ('Chicago Vocational Career Academy High School', '68.80%'),\n",
       " ('Dyett High School', '62.50%'),\n",
       " ('Manley Career Academy High School', '66.80%'),\n",
       " ('Orr Academy High School', '66.30%'),\n",
       " ('Richard T Crane Technical Preparatory High School', '57.90%'),\n",
       " ('Roberto Clemente Community Academy High School', '69.60%'),\n",
       " ('Wendell Phillips Academy High School', '63.00%')]"
      ]
     },
     "execution_count": 25,
     "metadata": {},
     "output_type": "execute_result"
    }
   ],
   "source": [
    "%sql SELECT Name_of_School, Average_Student_Attendance from CHICAGO_PUBLIC_SCHOOLS_DATA where Average_Student_Attendance < 70"
   ]
  },
  {
   "cell_type": "markdown",
   "metadata": {},
   "source": [
    "### Problem 8\n",
    "\n",
    "##### Get the total College Enrollment for each Community Area\n"
   ]
  },
  {
   "cell_type": "code",
   "execution_count": 38,
   "metadata": {},
   "outputs": [
    {
     "name": "stdout",
     "output_type": "stream",
     "text": [
      " * sqlite:///RealWorldData.db\n",
      "Done.\n"
     ]
    },
    {
     "data": {
      "text/html": [
       "<table>\n",
       "    <thead>\n",
       "        <tr>\n",
       "            <th>Total College Enrollment</th>\n",
       "            <th>COMMUNITY_AREA_NAME</th>\n",
       "        </tr>\n",
       "    </thead>\n",
       "    <tbody>\n",
       "        <tr>\n",
       "            <td>6864</td>\n",
       "            <td>ALBANY PARK</td>\n",
       "        </tr>\n",
       "        <tr>\n",
       "            <td>4823</td>\n",
       "            <td>ARCHER HEIGHTS</td>\n",
       "        </tr>\n",
       "        <tr>\n",
       "            <td>1458</td>\n",
       "            <td>ARMOUR SQUARE</td>\n",
       "        </tr>\n",
       "        <tr>\n",
       "            <td>6483</td>\n",
       "            <td>ASHBURN</td>\n",
       "        </tr>\n",
       "        <tr>\n",
       "            <td>4175</td>\n",
       "            <td>AUBURN GRESHAM</td>\n",
       "        </tr>\n",
       "        <tr>\n",
       "            <td>10933</td>\n",
       "            <td>AUSTIN</td>\n",
       "        </tr>\n",
       "        <tr>\n",
       "            <td>1522</td>\n",
       "            <td>AVALON PARK</td>\n",
       "        </tr>\n",
       "        <tr>\n",
       "            <td>3640</td>\n",
       "            <td>AVONDALE</td>\n",
       "        </tr>\n",
       "        <tr>\n",
       "            <td>14386</td>\n",
       "            <td>BELMONT CRAGIN</td>\n",
       "        </tr>\n",
       "        <tr>\n",
       "            <td>1636</td>\n",
       "            <td>BEVERLY</td>\n",
       "        </tr>\n",
       "        <tr>\n",
       "            <td>3167</td>\n",
       "            <td>BRIDGEPORT</td>\n",
       "        </tr>\n",
       "        <tr>\n",
       "            <td>9647</td>\n",
       "            <td>BRIGHTON PARK</td>\n",
       "        </tr>\n",
       "        <tr>\n",
       "            <td>549</td>\n",
       "            <td>BURNSIDE</td>\n",
       "        </tr>\n",
       "        <tr>\n",
       "            <td>1568</td>\n",
       "            <td>CALUMET HEIGHTS</td>\n",
       "        </tr>\n",
       "        <tr>\n",
       "            <td>5042</td>\n",
       "            <td>CHATHAM</td>\n",
       "        </tr>\n",
       "        <tr>\n",
       "            <td>7086</td>\n",
       "            <td>CHICAGO LAWN</td>\n",
       "        </tr>\n",
       "        <tr>\n",
       "            <td>2085</td>\n",
       "            <td>CLEARING</td>\n",
       "        </tr>\n",
       "        <tr>\n",
       "            <td>4670</td>\n",
       "            <td>DOUGLAS</td>\n",
       "        </tr>\n",
       "        <tr>\n",
       "            <td>4568</td>\n",
       "            <td>DUNNING</td>\n",
       "        </tr>\n",
       "        <tr>\n",
       "            <td>5337</td>\n",
       "            <td>EAST GARFIELD PARK</td>\n",
       "        </tr>\n",
       "        <tr>\n",
       "            <td>5305</td>\n",
       "            <td>EAST SIDE</td>\n",
       "        </tr>\n",
       "        <tr>\n",
       "            <td>4600</td>\n",
       "            <td>EDGEWATER</td>\n",
       "        </tr>\n",
       "        <tr>\n",
       "            <td>910</td>\n",
       "            <td>EDISON PARK</td>\n",
       "        </tr>\n",
       "        <tr>\n",
       "            <td>6832</td>\n",
       "            <td>ENGLEWOOD</td>\n",
       "        </tr>\n",
       "        <tr>\n",
       "            <td>1431</td>\n",
       "            <td>FOREST GLEN</td>\n",
       "        </tr>\n",
       "        <tr>\n",
       "            <td>531</td>\n",
       "            <td>FULLER PARK</td>\n",
       "        </tr>\n",
       "        <tr>\n",
       "            <td>9915</td>\n",
       "            <td>GAGE PARK</td>\n",
       "        </tr>\n",
       "        <tr>\n",
       "            <td>4552</td>\n",
       "            <td>GARFIELD RIDGE</td>\n",
       "        </tr>\n",
       "        <tr>\n",
       "            <td>2809</td>\n",
       "            <td>GRAND BOULEVARD</td>\n",
       "        </tr>\n",
       "        <tr>\n",
       "            <td>4051</td>\n",
       "            <td>GREATER GRAND CROSSING</td>\n",
       "        </tr>\n",
       "        <tr>\n",
       "            <td>963</td>\n",
       "            <td>HEGEWISCH</td>\n",
       "        </tr>\n",
       "        <tr>\n",
       "            <td>3975</td>\n",
       "            <td>HERMOSA</td>\n",
       "        </tr>\n",
       "        <tr>\n",
       "            <td>8620</td>\n",
       "            <td>HUMBOLDT PARK</td>\n",
       "        </tr>\n",
       "        <tr>\n",
       "            <td>1930</td>\n",
       "            <td>HYDE PARK</td>\n",
       "        </tr>\n",
       "        <tr>\n",
       "            <td>7764</td>\n",
       "            <td>IRVING PARK</td>\n",
       "        </tr>\n",
       "        <tr>\n",
       "            <td>1755</td>\n",
       "            <td>JEFFERSON PARK</td>\n",
       "        </tr>\n",
       "        <tr>\n",
       "            <td>4287</td>\n",
       "            <td>KENWOOD</td>\n",
       "        </tr>\n",
       "        <tr>\n",
       "            <td>7055</td>\n",
       "            <td>LAKE VIEW</td>\n",
       "        </tr>\n",
       "        <tr>\n",
       "            <td>5615</td>\n",
       "            <td>LINCOLN PARK</td>\n",
       "        </tr>\n",
       "        <tr>\n",
       "            <td>4132</td>\n",
       "            <td>LINCOLN SQUARE</td>\n",
       "        </tr>\n",
       "        <tr>\n",
       "            <td>7351</td>\n",
       "            <td>LOGAN SQUARE</td>\n",
       "        </tr>\n",
       "        <tr>\n",
       "            <td>871</td>\n",
       "            <td>LOOP</td>\n",
       "        </tr>\n",
       "        <tr>\n",
       "            <td>7257</td>\n",
       "            <td>LOWER WEST SIDE</td>\n",
       "        </tr>\n",
       "        <tr>\n",
       "            <td>1552</td>\n",
       "            <td>MCKINLEY PARK</td>\n",
       "        </tr>\n",
       "        <tr>\n",
       "            <td>1317</td>\n",
       "            <td>MONTCLARE</td>\n",
       "        </tr>\n",
       "        <tr>\n",
       "            <td>3271</td>\n",
       "            <td>MORGAN PARK</td>\n",
       "        </tr>\n",
       "        <tr>\n",
       "            <td>2091</td>\n",
       "            <td>MOUNT GREENWOOD</td>\n",
       "        </tr>\n",
       "        <tr>\n",
       "            <td>3362</td>\n",
       "            <td>NEAR NORTH SIDE</td>\n",
       "        </tr>\n",
       "        <tr>\n",
       "            <td>1378</td>\n",
       "            <td>NEAR SOUTH SIDE</td>\n",
       "        </tr>\n",
       "        <tr>\n",
       "            <td>7975</td>\n",
       "            <td>NEAR WEST SIDE</td>\n",
       "        </tr>\n",
       "        <tr>\n",
       "            <td>7922</td>\n",
       "            <td>NEW CITY</td>\n",
       "        </tr>\n",
       "        <tr>\n",
       "            <td>7541</td>\n",
       "            <td>NORTH CENTER</td>\n",
       "        </tr>\n",
       "        <tr>\n",
       "            <td>5146</td>\n",
       "            <td>NORTH LAWNDALE</td>\n",
       "        </tr>\n",
       "        <tr>\n",
       "            <td>4210</td>\n",
       "            <td>NORTH PARK</td>\n",
       "        </tr>\n",
       "        <tr>\n",
       "            <td>6469</td>\n",
       "            <td>NORWOOD PARK</td>\n",
       "        </tr>\n",
       "        <tr>\n",
       "            <td>140</td>\n",
       "            <td>OAKLAND</td>\n",
       "        </tr>\n",
       "        <tr>\n",
       "            <td>786</td>\n",
       "            <td>OHARE</td>\n",
       "        </tr>\n",
       "        <tr>\n",
       "            <td>6954</td>\n",
       "            <td>PORTAGE PARK</td>\n",
       "        </tr>\n",
       "        <tr>\n",
       "            <td>1620</td>\n",
       "            <td>PULLMAN</td>\n",
       "        </tr>\n",
       "        <tr>\n",
       "            <td>1547</td>\n",
       "            <td>RIVERDALE</td>\n",
       "        </tr>\n",
       "        <tr>\n",
       "            <td>4068</td>\n",
       "            <td>ROGERS PARK</td>\n",
       "        </tr>\n",
       "        <tr>\n",
       "            <td>7020</td>\n",
       "            <td>ROSELAND</td>\n",
       "        </tr>\n",
       "        <tr>\n",
       "            <td>4043</td>\n",
       "            <td>SOUTH CHICAGO</td>\n",
       "        </tr>\n",
       "        <tr>\n",
       "            <td>1859</td>\n",
       "            <td>SOUTH DEERING</td>\n",
       "        </tr>\n",
       "        <tr>\n",
       "            <td>14793</td>\n",
       "            <td>SOUTH LAWNDALE</td>\n",
       "        </tr>\n",
       "        <tr>\n",
       "            <td>4543</td>\n",
       "            <td>SOUTH SHORE</td>\n",
       "        </tr>\n",
       "        <tr>\n",
       "            <td>4388</td>\n",
       "            <td>UPTOWN</td>\n",
       "        </tr>\n",
       "        <tr>\n",
       "            <td>4006</td>\n",
       "            <td>WASHINGTON HEIGHTS</td>\n",
       "        </tr>\n",
       "        <tr>\n",
       "            <td>2648</td>\n",
       "            <td>WASHINGTON PARK</td>\n",
       "        </tr>\n",
       "        <tr>\n",
       "            <td>3700</td>\n",
       "            <td>WEST ELSDON</td>\n",
       "        </tr>\n",
       "        <tr>\n",
       "            <td>5946</td>\n",
       "            <td>WEST ENGLEWOOD</td>\n",
       "        </tr>\n",
       "        <tr>\n",
       "            <td>2622</td>\n",
       "            <td>WEST GARFIELD PARK</td>\n",
       "        </tr>\n",
       "        <tr>\n",
       "            <td>4207</td>\n",
       "            <td>WEST LAWN</td>\n",
       "        </tr>\n",
       "        <tr>\n",
       "            <td>3240</td>\n",
       "            <td>WEST PULLMAN</td>\n",
       "        </tr>\n",
       "        <tr>\n",
       "            <td>8197</td>\n",
       "            <td>WEST RIDGE</td>\n",
       "        </tr>\n",
       "        <tr>\n",
       "            <td>9429</td>\n",
       "            <td>WEST TOWN</td>\n",
       "        </tr>\n",
       "        <tr>\n",
       "            <td>4206</td>\n",
       "            <td>WOODLAWN</td>\n",
       "        </tr>\n",
       "    </tbody>\n",
       "</table>"
      ],
      "text/plain": [
       "[(6864, 'ALBANY PARK'),\n",
       " (4823, 'ARCHER HEIGHTS'),\n",
       " (1458, 'ARMOUR SQUARE'),\n",
       " (6483, 'ASHBURN'),\n",
       " (4175, 'AUBURN GRESHAM'),\n",
       " (10933, 'AUSTIN'),\n",
       " (1522, 'AVALON PARK'),\n",
       " (3640, 'AVONDALE'),\n",
       " (14386, 'BELMONT CRAGIN'),\n",
       " (1636, 'BEVERLY'),\n",
       " (3167, 'BRIDGEPORT'),\n",
       " (9647, 'BRIGHTON PARK'),\n",
       " (549, 'BURNSIDE'),\n",
       " (1568, 'CALUMET HEIGHTS'),\n",
       " (5042, 'CHATHAM'),\n",
       " (7086, 'CHICAGO LAWN'),\n",
       " (2085, 'CLEARING'),\n",
       " (4670, 'DOUGLAS'),\n",
       " (4568, 'DUNNING'),\n",
       " (5337, 'EAST GARFIELD PARK'),\n",
       " (5305, 'EAST SIDE'),\n",
       " (4600, 'EDGEWATER'),\n",
       " (910, 'EDISON PARK'),\n",
       " (6832, 'ENGLEWOOD'),\n",
       " (1431, 'FOREST GLEN'),\n",
       " (531, 'FULLER PARK'),\n",
       " (9915, 'GAGE PARK'),\n",
       " (4552, 'GARFIELD RIDGE'),\n",
       " (2809, 'GRAND BOULEVARD'),\n",
       " (4051, 'GREATER GRAND CROSSING'),\n",
       " (963, 'HEGEWISCH'),\n",
       " (3975, 'HERMOSA'),\n",
       " (8620, 'HUMBOLDT PARK'),\n",
       " (1930, 'HYDE PARK'),\n",
       " (7764, 'IRVING PARK'),\n",
       " (1755, 'JEFFERSON PARK'),\n",
       " (4287, 'KENWOOD'),\n",
       " (7055, 'LAKE VIEW'),\n",
       " (5615, 'LINCOLN PARK'),\n",
       " (4132, 'LINCOLN SQUARE'),\n",
       " (7351, 'LOGAN SQUARE'),\n",
       " (871, 'LOOP'),\n",
       " (7257, 'LOWER WEST SIDE'),\n",
       " (1552, 'MCKINLEY PARK'),\n",
       " (1317, 'MONTCLARE'),\n",
       " (3271, 'MORGAN PARK'),\n",
       " (2091, 'MOUNT GREENWOOD'),\n",
       " (3362, 'NEAR NORTH SIDE'),\n",
       " (1378, 'NEAR SOUTH SIDE'),\n",
       " (7975, 'NEAR WEST SIDE'),\n",
       " (7922, 'NEW CITY'),\n",
       " (7541, 'NORTH CENTER'),\n",
       " (5146, 'NORTH LAWNDALE'),\n",
       " (4210, 'NORTH PARK'),\n",
       " (6469, 'NORWOOD PARK'),\n",
       " (140, 'OAKLAND'),\n",
       " (786, 'OHARE'),\n",
       " (6954, 'PORTAGE PARK'),\n",
       " (1620, 'PULLMAN'),\n",
       " (1547, 'RIVERDALE'),\n",
       " (4068, 'ROGERS PARK'),\n",
       " (7020, 'ROSELAND'),\n",
       " (4043, 'SOUTH CHICAGO'),\n",
       " (1859, 'SOUTH DEERING'),\n",
       " (14793, 'SOUTH LAWNDALE'),\n",
       " (4543, 'SOUTH SHORE'),\n",
       " (4388, 'UPTOWN'),\n",
       " (4006, 'WASHINGTON HEIGHTS'),\n",
       " (2648, 'WASHINGTON PARK'),\n",
       " (3700, 'WEST ELSDON'),\n",
       " (5946, 'WEST ENGLEWOOD'),\n",
       " (2622, 'WEST GARFIELD PARK'),\n",
       " (4207, 'WEST LAWN'),\n",
       " (3240, 'WEST PULLMAN'),\n",
       " (8197, 'WEST RIDGE'),\n",
       " (9429, 'WEST TOWN'),\n",
       " (4206, 'WOODLAWN')]"
      ]
     },
     "execution_count": 38,
     "metadata": {},
     "output_type": "execute_result"
    }
   ],
   "source": [
    "%sql select sum(College_Enrollment) as 'Total College Enrollment', COMMUNITY_AREA_NAME from CHICAGO_PUBLIC_SCHOOLS_DATA group by COMMUNITY_AREA_NAME"
   ]
  },
  {
   "cell_type": "markdown",
   "metadata": {},
   "source": [
    "### Problem 9\n",
    "\n",
    "##### Get the 5 Community Areas with the least total College Enrollment  sorted in ascending order\n"
   ]
  },
  {
   "cell_type": "code",
   "execution_count": 45,
   "metadata": {},
   "outputs": [
    {
     "name": "stdout",
     "output_type": "stream",
     "text": [
      " * sqlite:///RealWorldData.db\n",
      "Done.\n"
     ]
    },
    {
     "data": {
      "text/html": [
       "<table>\n",
       "    <thead>\n",
       "        <tr>\n",
       "            <th>Total College Enrollment</th>\n",
       "            <th>COMMUNITY_AREA_NAME</th>\n",
       "        </tr>\n",
       "    </thead>\n",
       "    <tbody>\n",
       "        <tr>\n",
       "            <td>6864</td>\n",
       "            <td>ALBANY PARK</td>\n",
       "        </tr>\n",
       "        <tr>\n",
       "            <td>4823</td>\n",
       "            <td>ARCHER HEIGHTS</td>\n",
       "        </tr>\n",
       "        <tr>\n",
       "            <td>1458</td>\n",
       "            <td>ARMOUR SQUARE</td>\n",
       "        </tr>\n",
       "        <tr>\n",
       "            <td>6483</td>\n",
       "            <td>ASHBURN</td>\n",
       "        </tr>\n",
       "        <tr>\n",
       "            <td>4175</td>\n",
       "            <td>AUBURN GRESHAM</td>\n",
       "        </tr>\n",
       "    </tbody>\n",
       "</table>"
      ],
      "text/plain": [
       "[(6864, 'ALBANY PARK'),\n",
       " (4823, 'ARCHER HEIGHTS'),\n",
       " (1458, 'ARMOUR SQUARE'),\n",
       " (6483, 'ASHBURN'),\n",
       " (4175, 'AUBURN GRESHAM')]"
      ]
     },
     "execution_count": 45,
     "metadata": {},
     "output_type": "execute_result"
    }
   ],
   "source": [
    "%sql select sum(College_Enrollment) as 'Total College Enrollment', COMMUNITY_AREA_NAME from CHICAGO_PUBLIC_SCHOOLS_DATA group by Community_Area_Name order by 'Total College Enrollment' ASC limit 5"
   ]
  },
  {
   "cell_type": "markdown",
   "metadata": {},
   "source": [
    "### Problem 10\n",
    "\n",
    "##### List 5 schools with lowest safety score.\n"
   ]
  },
  {
   "cell_type": "code",
   "execution_count": 47,
   "metadata": {},
   "outputs": [
    {
     "name": "stdout",
     "output_type": "stream",
     "text": [
      " * sqlite:///RealWorldData.db\n",
      "Done.\n"
     ]
    },
    {
     "data": {
      "text/html": [
       "<table>\n",
       "    <thead>\n",
       "        <tr>\n",
       "            <th>SAFETY_SCORE</th>\n",
       "            <th>NAME_OF_SCHOOL</th>\n",
       "        </tr>\n",
       "    </thead>\n",
       "    <tbody>\n",
       "        <tr>\n",
       "            <td>1.0</td>\n",
       "            <td>Edmond Burke Elementary School</td>\n",
       "        </tr>\n",
       "        <tr>\n",
       "            <td>5.0</td>\n",
       "            <td>Luke O&#x27;Toole Elementary School</td>\n",
       "        </tr>\n",
       "        <tr>\n",
       "            <td>6.0</td>\n",
       "            <td>George W Tilton Elementary School</td>\n",
       "        </tr>\n",
       "        <tr>\n",
       "            <td>11.0</td>\n",
       "            <td>Foster Park Elementary School</td>\n",
       "        </tr>\n",
       "        <tr>\n",
       "            <td>13.0</td>\n",
       "            <td>Emil G Hirsch Metropolitan High School</td>\n",
       "        </tr>\n",
       "    </tbody>\n",
       "</table>"
      ],
      "text/plain": [
       "[(1.0, 'Edmond Burke Elementary School'),\n",
       " (5.0, \"Luke O'Toole Elementary School\"),\n",
       " (6.0, 'George W Tilton Elementary School'),\n",
       " (11.0, 'Foster Park Elementary School'),\n",
       " (13.0, 'Emil G Hirsch Metropolitan High School')]"
      ]
     },
     "execution_count": 47,
     "metadata": {},
     "output_type": "execute_result"
    }
   ],
   "source": [
    "%sql select SAFETY_SCORE, NAME_OF_SCHOOL from CHICAGO_PUBLIC_SCHOOLS_DATA where safety_score !='none' order by SAFETY_SCORE ASC limit 5"
   ]
  },
  {
   "cell_type": "markdown",
   "metadata": {},
   "source": [
    "### Problem 11\n",
    "\n",
    "##### Get the hardship index for the community area which has College Enrollment of 4368\n"
   ]
  },
  {
   "cell_type": "code",
   "execution_count": 56,
   "metadata": {},
   "outputs": [
    {
     "name": "stdout",
     "output_type": "stream",
     "text": [
      " * sqlite:///RealWorldData.db\n",
      "(sqlite3.OperationalError) ambiguous column name: COMMUNITY_AREA_NAME\n",
      "[SQL: select hardship_index, COMMUNITY_AREA_NAME from CENSUS_DATA CD, CHICAGO_PUBLIC_SCHOOLS_DATA CPS\n",
      "where CD.community_area_number = CPS.community_area_number\n",
      "and college_enrollment = 4368]\n",
      "(Background on this error at: http://sqlalche.me/e/13/e3q8)\n"
     ]
    }
   ],
   "source": [
    "%%sql \n",
    "select hardship_index, COMMUNITY_AREA_NAME from CENSUS_DATA CD, CHICAGO_PUBLIC_SCHOOLS_DATA CPS\n",
    "where CD.community_area_number = CPS.community_area_number\n",
    "and college_enrollment = 4368"
   ]
  },
  {
   "cell_type": "markdown",
   "metadata": {},
   "source": [
    "### Problem 12\n",
    "\n",
    "##### Get the hardship index for the community area which has the highest value for College Enrollment\n"
   ]
  },
  {
   "cell_type": "code",
   "execution_count": 57,
   "metadata": {},
   "outputs": [
    {
     "name": "stdout",
     "output_type": "stream",
     "text": [
      " * sqlite:///RealWorldData.db\n",
      "(sqlite3.OperationalError) misuse of aggregate: max()\n",
      "[SQL: select hardship_index from CENSUS_DATA CD, CHICAGO_PUBLIC_SCHOOLS_DATA CPS \n",
      "where CD.community_area_number = CPS.community_area_number\n",
      "and college_enrollment = (select max(college_enrollment))]\n",
      "(Background on this error at: http://sqlalche.me/e/13/e3q8)\n"
     ]
    }
   ],
   "source": [
    "%%sql \n",
    "select hardship_index from CENSUS_DATA CD, CHICAGO_PUBLIC_SCHOOLS_DATA CPS \n",
    "where CD.community_area_number = CPS.community_area_number\n",
    "and college_enrollment = (select max(college_enrollment))"
   ]
  },
  {
   "cell_type": "markdown",
   "metadata": {},
   "source": [
    "## Summary\n",
    "\n",
    "##### In this lab you learned how to work with a real word dataset using SQL and Python. You learned how to query columns with spaces or special characters in their names and with mixed case names. You also used built in database functions and practiced how to sort, limit, and order result sets, as well as used sub-queries and worked with multiple tables.\n"
   ]
  },
  {
   "cell_type": "markdown",
   "metadata": {},
   "source": [
    "## Author\n",
    "\n",
    "<a href=\"https://www.linkedin.com/in/ravahuja/?utm_medium=Exinfluencer&utm_source=Exinfluencer&utm_content=000026UJ&utm_term=10006555&utm_id=NA-SkillsNetwork-Channel-SkillsNetworkCoursesIBMDeveloperSkillsNetworkDB0201ENSkillsNetwork20127838-2021-01-01\" target=\"_blank\">Rav Ahuja</a>\n",
    "\n",
    "## Change Log\n",
    "\n",
    "| Date (YYYY-MM-DD) | Version | Changed By        | Change Description                        |\n",
    "| ----------------- | ------- | ----------------- | ----------------------------------------- |\n",
    "| 2022-03-04        | 2.2     | Lakshmi Holla     | Made changes in markdown cells |\n",
    "| 2020-11-27        | 2.1     | Sannareddy Ramesh | Modified data sets and added new problems |\n",
    "| 2020-08-28        | 2.0     | Lavanya           | Moved lab to course repo in GitLab        |\n",
    "\n",
    "<hr>\n",
    "\n",
    "## <h3 align=\"center\"> © IBM Corporation 2020. All rights reserved. <h3/>\n"
   ]
  }
 ],
 "metadata": {
  "kernelspec": {
   "display_name": "Python",
   "language": "python",
   "name": "conda-env-python-py"
  },
  "language_info": {
   "codemirror_mode": {
    "name": "ipython",
    "version": 3
   },
   "file_extension": ".py",
   "mimetype": "text/x-python",
   "name": "python",
   "nbconvert_exporter": "python",
   "pygments_lexer": "ipython3",
   "version": "3.7.12"
  }
 },
 "nbformat": 4,
 "nbformat_minor": 4
}
